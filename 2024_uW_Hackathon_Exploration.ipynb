{
  "cells": [
    {
      "cell_type": "markdown",
      "metadata": {
        "id": "view-in-github",
        "colab_type": "text"
      },
      "source": [
        "<a href=\"https://colab.research.google.com/github/PENNET-dev/hackathon-uW-2024/blob/main/2024_uW_Hackathon_Exploration.ipynb\" target=\"_parent\"><img src=\"https://colab.research.google.com/assets/colab-badge.svg\" alt=\"Open In Colab\"/></a>"
      ]
    },
    {
      "cell_type": "markdown",
      "metadata": {
        "id": "_SYgxGnLC3Ef"
      },
      "source": [
        "# 2024 Hackathon - The Tone Rangers\n",
        "\n",
        "Audio is a primary part of the human/computer interaction requried for Oral Bible Translation (OBT).  And some Bible translation efforts target \"low resource languages\".  As such, Bible translation software must understand spoken audio from low resource languages.\n",
        "\n",
        "Here, we propose a model to recognize individual words in Dholuo.\n",
        "\n",
        "Here, \"low resource languages\" is understood as any language that does not have open, available models for LLM, speech-to-text, and text-to-speech.\n",
        "\n",
        "By requiring a \"stable\" model, we require the solution to be independent of tone, volume, speed, or the speaker's gender."
      ]
    },
    {
      "cell_type": "markdown",
      "metadata": {
        "id": "c0THyBqkD4Ir"
      },
      "source": [
        "Thesis:\n",
        "Find a stable method for recognizing individual words in low-resource languages."
      ]
    },
    {
      "cell_type": "markdown",
      "metadata": {
        "id": "MdbTqfpiCyJK"
      },
      "source": [
        "# Literature Review:\n",
        "\n",
        "## How Multilingual is Multilingual LLM?\n",
        "https://openreview.net/pdf?id=VXNYBh_iGcfX\n"
      ]
    },
    {
      "cell_type": "code",
      "execution_count": null,
      "metadata": {
        "colab": {
          "base_uri": "https://localhost:8080/"
        },
        "id": "fmeoE53Im-Ac",
        "outputId": "4bc652a8-6be7-431f-88bf-25136a2094b7"
      },
      "outputs": [
        {
          "name": "stdout",
          "output_type": "stream",
          "text": [
            "Mounted at /content/drive\n"
          ]
        }
      ],
      "source": [
        "from google.colab import drive\n",
        "drive.mount('/content/drive')"
      ]
    },
    {
      "cell_type": "markdown",
      "metadata": {
        "id": "LhlaKg7El_iC"
      },
      "source": [
        "Install the Libraries"
      ]
    },
    {
      "cell_type": "code",
      "execution_count": null,
      "metadata": {
        "id": "VXq5NdnNGfBQ"
      },
      "outputs": [],
      "source": [
        "import numpy as np\n",
        "import matplotlib.pyplot as plt\n",
        "import scipy.fftpack\n",
        "import scipy.fftpack as fft\n",
        "from scipy.fftpack import dct\n",
        "from scipy.signal import spectrogram\n",
        "import librosa\n",
        "import librosa.display\n",
        "import IPython.display"
      ]
    },
    {
      "cell_type": "markdown",
      "metadata": {
        "id": "iRr4IQP3mH5k"
      },
      "source": [
        "Define the Plot functions"
      ]
    },
    {
      "cell_type": "code",
      "execution_count": null,
      "metadata": {
        "id": "p3NhcfVgGe1r"
      },
      "outputs": [],
      "source": [
        "def plot_time(audio, figsize=(5,3), title=''):\n",
        "    plt.figure(figsize=figsize)\n",
        "    plt.plot(audio, alpha=0.5, label='audio')\n",
        "    plt.grid(True)\n",
        "    plt.title(title+' Sample - Time Domain')\n",
        "    plt.xlabel('time')\n",
        "    plt.ylabel('amplitude')\n",
        "    plt.show();"
      ]
    },
    {
      "cell_type": "code",
      "execution_count": null,
      "metadata": {
        "id": "FJTJhU8oGeYS"
      },
      "outputs": [],
      "source": [
        "def fft(data, sample_rate, figsize=(15,4),title = ''):\n",
        "\n",
        "    N = sample_rate\n",
        "    # Compute FFT\n",
        "    yf = scipy.fftpack.fft(data)\n",
        "\n",
        "    # Generate frequency bins\n",
        "    xf = np.linspace(0.0, N//2, N//2)\n",
        "\n",
        "    # Find the index of the maximum amplitude and its corresponding frequency\n",
        "    start_bin = int(20 * (N // 2) / (N // 2))  # Corresponding bin for 20 Hz\n",
        "    max_amplitude_idx = np.argmax(2.0/N * np.abs(yf[start_bin:N//2]))\n",
        "    max_amplitude_frequency = xf[start_bin:][max_amplitude_idx]\n",
        "\n",
        "    # Plot FFT (skipping the first 20 bins to start from 20 Hz)\n",
        "    plt.figure(figsize=figsize)\n",
        "    start_bin = int(20 * (N // 2) / (N // 2))  # Corresponding bin for 20 Hz\n",
        "    plt.semilogx(xf[start_bin:], 2.0/N * np.abs(yf[start_bin:N//2]))\n",
        "\n",
        "    # Add a point and label for the frequency with the maximum amplitude\n",
        "    plt.scatter(max_amplitude_frequency, 2.0/N * np.abs(yf[start_bin:][max_amplitude_idx]), color='red')\n",
        "    plt.annotate(f'Max Amp. @ {max_amplitude_frequency:.2f} Hz',\n",
        "                 (max_amplitude_frequency, 2.0/N * np.abs(yf[start_bin:][max_amplitude_idx])),\n",
        "                 textcoords=\"offset points\",\n",
        "                 xytext=(10,-10),\n",
        "                 ha='left')\n",
        "\n",
        "   # plt.semilogx(2.0/N * np.abs(yf[20:N//2]))\n",
        "    plt.xlabel('frequency [Hz]')\n",
        "    plt.ylabel('amp')\n",
        "    plt.grid(True)\n",
        "    plt.title(title+' sample - Frequency Components')\n",
        "    return yf, max_amplitude_frequency\n",
        "    plt.show();"
      ]
    },
    {
      "cell_type": "code",
      "execution_count": null,
      "metadata": {
        "id": "e2BGOBs3mS0i"
      },
      "outputs": [],
      "source": [
        "def plot_spectogram(audio, sample_rate, figsize=(10,5), title=''):\n",
        "    epsilon = 1e-10 # Small constant to avoid log10(0)\n",
        "    frequencies, times, Sxx = spectrogram(audio, sample_rate)\n",
        "    plt.figure(figsize=figsize)\n",
        "    plt.pcolormesh(times, frequencies, 10 * np.log10(Sxx + epsilon), shading='gouraud')\n",
        "    plt.title(title+' Sample - Spectogram')\n",
        "    plt.ylabel('Frequency [Hz]')\n",
        "    plt.xlabel('Time [sec]')\n",
        "    plt.colorbar(label='Intensity [dB]')\n",
        "    plt.show()"
      ]
    },
    {
      "cell_type": "code",
      "execution_count": null,
      "metadata": {
        "id": "UJMgNaK1mSqS"
      },
      "outputs": [],
      "source": [
        "def calc_plot_mfcc (audio, sample_rate, n_mfcc=13, figsize=(10,5), title=''):\n",
        "\n",
        "    # Calculate MFCCs\n",
        "    mfccs = librosa.feature.mfcc(y=audio, sr=sample_rate, n_mfcc=n_mfcc)\n",
        "\n",
        "    # # Plotting the MFCCs\n",
        "    plt.figure(figsize=figsize)\n",
        "    librosa.display.specshow(mfccs,\n",
        "                             x_axis='time',\n",
        "                             sr=sample_rate,\n",
        "                             cmap='coolwarm')\n",
        "    plt.colorbar(format='%+2.0f dB')\n",
        "    plt.ylabel('MFCC')\n",
        "    plt.xlabel('time')\n",
        "    plt.ylabel('MFCC Coefficients')\n",
        "    plt.yticks(np.arange(0, 13, 1), [str(i+1) for i in range(13)])\n",
        "    plt.title(title +' - Mel-frequency cepstral coefficients (MFCC)')\n",
        "    plt.tight_layout()\n",
        "    plt.show()"
      ]
    },
    {
      "cell_type": "markdown",
      "metadata": {
        "id": "OtPGPfFNmc5d"
      },
      "source": [
        "Analizyng Audio raw sample"
      ]
    },
    {
      "cell_type": "code",
      "execution_count": null,
      "metadata": {
        "colab": {
          "background_save": true,
          "base_uri": "https://localhost:8080/"
        },
        "id": "K0ZMjPvImZoL",
        "outputId": "7e348ebe-9db2-40f3-f04d-efe6a4eeada5"
      },
      "outputs": [
        {
          "name": "stdout",
          "output_type": "stream",
          "text": [
            "(8319,)\n"
          ]
        }
      ],
      "source": [
        "# Load audio file\n",
        "# Audio sample\n",
        "audioSampleFilePath = \"/content/drive/MyDrive/Colab Notebooks/2024 - unfoldingWord Hackathon/2438^yeslord.mp3\"\n",
        "yes, sample_rate = librosa.load(audioSampleFilePath, sr=64000, duration=0.13)\n",
        "\n",
        "print(yes.shape)\n"
      ]
    },
    {
      "cell_type": "markdown",
      "metadata": {
        "id": "OimAHiG1mxk5"
      },
      "source": [
        "Plot the FFT"
      ]
    },
    {
      "cell_type": "code",
      "execution_count": null,
      "metadata": {
        "colab": {
          "base_uri": "https://localhost:8080/",
          "height": 665
        },
        "id": "uksNtrvCmyrj",
        "outputId": "d5acc1d6-2dc9-4bdc-c3cd-7369c41e86bf"
      },
      "outputs": [
        {
          "ename": "ValueError",
          "evalue": "x and y must have same first dimension, but have shapes (31980,) and (8299,)",
          "output_type": "error",
          "traceback": [
            "\u001b[0;31m---------------------------------------------------------------------------\u001b[0m",
            "\u001b[0;31mValueError\u001b[0m                                Traceback (most recent call last)",
            "\u001b[0;32m<ipython-input-29-842593d9a9c7>\u001b[0m in \u001b[0;36m<cell line: 1>\u001b[0;34m()\u001b[0m\n\u001b[0;32m----> 1\u001b[0;31m \u001b[0myf_yes\u001b[0m\u001b[0;34m,\u001b[0m \u001b[0mmax_amp_freq_yes\u001b[0m \u001b[0;34m=\u001b[0m \u001b[0mfft\u001b[0m\u001b[0;34m(\u001b[0m\u001b[0myes\u001b[0m\u001b[0;34m,\u001b[0m \u001b[0msample_rate\u001b[0m\u001b[0;34m,\u001b[0m \u001b[0mfigsize\u001b[0m \u001b[0;34m=\u001b[0m \u001b[0;34m(\u001b[0m\u001b[0;36m8\u001b[0m\u001b[0;34m,\u001b[0m\u001b[0;36m4\u001b[0m\u001b[0;34m)\u001b[0m\u001b[0;34m,\u001b[0m \u001b[0mtitle\u001b[0m \u001b[0;34m=\u001b[0m \u001b[0;34m'YES'\u001b[0m\u001b[0;34m)\u001b[0m\u001b[0;34m\u001b[0m\u001b[0;34m\u001b[0m\u001b[0m\n\u001b[0m",
            "\u001b[0;32m<ipython-input-4-ab9e8ab8d08c>\u001b[0m in \u001b[0;36mfft\u001b[0;34m(data, sample_rate, figsize, title)\u001b[0m\n\u001b[1;32m     16\u001b[0m     \u001b[0mplt\u001b[0m\u001b[0;34m.\u001b[0m\u001b[0mfigure\u001b[0m\u001b[0;34m(\u001b[0m\u001b[0mfigsize\u001b[0m\u001b[0;34m=\u001b[0m\u001b[0mfigsize\u001b[0m\u001b[0;34m)\u001b[0m\u001b[0;34m\u001b[0m\u001b[0;34m\u001b[0m\u001b[0m\n\u001b[1;32m     17\u001b[0m     \u001b[0mstart_bin\u001b[0m \u001b[0;34m=\u001b[0m \u001b[0mint\u001b[0m\u001b[0;34m(\u001b[0m\u001b[0;36m20\u001b[0m \u001b[0;34m*\u001b[0m \u001b[0;34m(\u001b[0m\u001b[0mN\u001b[0m \u001b[0;34m//\u001b[0m \u001b[0;36m2\u001b[0m\u001b[0;34m)\u001b[0m \u001b[0;34m/\u001b[0m \u001b[0;34m(\u001b[0m\u001b[0mN\u001b[0m \u001b[0;34m//\u001b[0m \u001b[0;36m2\u001b[0m\u001b[0;34m)\u001b[0m\u001b[0;34m)\u001b[0m  \u001b[0;31m# Corresponding bin for 20 Hz\u001b[0m\u001b[0;34m\u001b[0m\u001b[0;34m\u001b[0m\u001b[0m\n\u001b[0;32m---> 18\u001b[0;31m     \u001b[0mplt\u001b[0m\u001b[0;34m.\u001b[0m\u001b[0msemilogx\u001b[0m\u001b[0;34m(\u001b[0m\u001b[0mxf\u001b[0m\u001b[0;34m[\u001b[0m\u001b[0mstart_bin\u001b[0m\u001b[0;34m:\u001b[0m\u001b[0;34m]\u001b[0m\u001b[0;34m,\u001b[0m \u001b[0;36m2.0\u001b[0m\u001b[0;34m/\u001b[0m\u001b[0mN\u001b[0m \u001b[0;34m*\u001b[0m \u001b[0mnp\u001b[0m\u001b[0;34m.\u001b[0m\u001b[0mabs\u001b[0m\u001b[0;34m(\u001b[0m\u001b[0myf\u001b[0m\u001b[0;34m[\u001b[0m\u001b[0mstart_bin\u001b[0m\u001b[0;34m:\u001b[0m\u001b[0mN\u001b[0m\u001b[0;34m//\u001b[0m\u001b[0;36m2\u001b[0m\u001b[0;34m]\u001b[0m\u001b[0;34m)\u001b[0m\u001b[0;34m)\u001b[0m\u001b[0;34m\u001b[0m\u001b[0;34m\u001b[0m\u001b[0m\n\u001b[0m\u001b[1;32m     19\u001b[0m \u001b[0;34m\u001b[0m\u001b[0m\n\u001b[1;32m     20\u001b[0m     \u001b[0;31m# Add a point and label for the frequency with the maximum amplitude\u001b[0m\u001b[0;34m\u001b[0m\u001b[0;34m\u001b[0m\u001b[0m\n",
            "\u001b[0;32m/usr/local/lib/python3.10/dist-packages/matplotlib/pyplot.py\u001b[0m in \u001b[0;36msemilogx\u001b[0;34m(*args, **kwargs)\u001b[0m\n\u001b[1;32m   2872\u001b[0m \u001b[0;34m@\u001b[0m\u001b[0m_copy_docstring_and_deprecators\u001b[0m\u001b[0;34m(\u001b[0m\u001b[0mAxes\u001b[0m\u001b[0;34m.\u001b[0m\u001b[0msemilogx\u001b[0m\u001b[0;34m)\u001b[0m\u001b[0;34m\u001b[0m\u001b[0;34m\u001b[0m\u001b[0m\n\u001b[1;32m   2873\u001b[0m \u001b[0;32mdef\u001b[0m \u001b[0msemilogx\u001b[0m\u001b[0;34m(\u001b[0m\u001b[0;34m*\u001b[0m\u001b[0margs\u001b[0m\u001b[0;34m,\u001b[0m \u001b[0;34m**\u001b[0m\u001b[0mkwargs\u001b[0m\u001b[0;34m)\u001b[0m\u001b[0;34m:\u001b[0m\u001b[0;34m\u001b[0m\u001b[0;34m\u001b[0m\u001b[0m\n\u001b[0;32m-> 2874\u001b[0;31m     \u001b[0;32mreturn\u001b[0m \u001b[0mgca\u001b[0m\u001b[0;34m(\u001b[0m\u001b[0;34m)\u001b[0m\u001b[0;34m.\u001b[0m\u001b[0msemilogx\u001b[0m\u001b[0;34m(\u001b[0m\u001b[0;34m*\u001b[0m\u001b[0margs\u001b[0m\u001b[0;34m,\u001b[0m \u001b[0;34m**\u001b[0m\u001b[0mkwargs\u001b[0m\u001b[0;34m)\u001b[0m\u001b[0;34m\u001b[0m\u001b[0;34m\u001b[0m\u001b[0m\n\u001b[0m\u001b[1;32m   2875\u001b[0m \u001b[0;34m\u001b[0m\u001b[0m\n\u001b[1;32m   2876\u001b[0m \u001b[0;34m\u001b[0m\u001b[0m\n",
            "\u001b[0;32m/usr/local/lib/python3.10/dist-packages/matplotlib/axes/_axes.py\u001b[0m in \u001b[0;36msemilogx\u001b[0;34m(self, *args, **kwargs)\u001b[0m\n\u001b[1;32m   1874\u001b[0m                       'basex', 'subsx', 'nonposx']}\n\u001b[1;32m   1875\u001b[0m         \u001b[0mself\u001b[0m\u001b[0;34m.\u001b[0m\u001b[0mset_xscale\u001b[0m\u001b[0;34m(\u001b[0m\u001b[0;34m'log'\u001b[0m\u001b[0;34m,\u001b[0m \u001b[0;34m**\u001b[0m\u001b[0md\u001b[0m\u001b[0;34m)\u001b[0m\u001b[0;34m\u001b[0m\u001b[0;34m\u001b[0m\u001b[0m\n\u001b[0;32m-> 1876\u001b[0;31m         return self.plot(\n\u001b[0m\u001b[1;32m   1877\u001b[0m             *args, **{k: v for k, v in kwargs.items() if k not in d})\n\u001b[1;32m   1878\u001b[0m \u001b[0;34m\u001b[0m\u001b[0m\n",
            "\u001b[0;32m/usr/local/lib/python3.10/dist-packages/matplotlib/axes/_axes.py\u001b[0m in \u001b[0;36mplot\u001b[0;34m(self, scalex, scaley, data, *args, **kwargs)\u001b[0m\n\u001b[1;32m   1686\u001b[0m         \"\"\"\n\u001b[1;32m   1687\u001b[0m         \u001b[0mkwargs\u001b[0m \u001b[0;34m=\u001b[0m \u001b[0mcbook\u001b[0m\u001b[0;34m.\u001b[0m\u001b[0mnormalize_kwargs\u001b[0m\u001b[0;34m(\u001b[0m\u001b[0mkwargs\u001b[0m\u001b[0;34m,\u001b[0m \u001b[0mmlines\u001b[0m\u001b[0;34m.\u001b[0m\u001b[0mLine2D\u001b[0m\u001b[0;34m)\u001b[0m\u001b[0;34m\u001b[0m\u001b[0;34m\u001b[0m\u001b[0m\n\u001b[0;32m-> 1688\u001b[0;31m         \u001b[0mlines\u001b[0m \u001b[0;34m=\u001b[0m \u001b[0;34m[\u001b[0m\u001b[0;34m*\u001b[0m\u001b[0mself\u001b[0m\u001b[0;34m.\u001b[0m\u001b[0m_get_lines\u001b[0m\u001b[0;34m(\u001b[0m\u001b[0;34m*\u001b[0m\u001b[0margs\u001b[0m\u001b[0;34m,\u001b[0m \u001b[0mdata\u001b[0m\u001b[0;34m=\u001b[0m\u001b[0mdata\u001b[0m\u001b[0;34m,\u001b[0m \u001b[0;34m**\u001b[0m\u001b[0mkwargs\u001b[0m\u001b[0;34m)\u001b[0m\u001b[0;34m]\u001b[0m\u001b[0;34m\u001b[0m\u001b[0;34m\u001b[0m\u001b[0m\n\u001b[0m\u001b[1;32m   1689\u001b[0m         \u001b[0;32mfor\u001b[0m \u001b[0mline\u001b[0m \u001b[0;32min\u001b[0m \u001b[0mlines\u001b[0m\u001b[0;34m:\u001b[0m\u001b[0;34m\u001b[0m\u001b[0;34m\u001b[0m\u001b[0m\n\u001b[1;32m   1690\u001b[0m             \u001b[0mself\u001b[0m\u001b[0;34m.\u001b[0m\u001b[0madd_line\u001b[0m\u001b[0;34m(\u001b[0m\u001b[0mline\u001b[0m\u001b[0;34m)\u001b[0m\u001b[0;34m\u001b[0m\u001b[0;34m\u001b[0m\u001b[0m\n",
            "\u001b[0;32m/usr/local/lib/python3.10/dist-packages/matplotlib/axes/_base.py\u001b[0m in \u001b[0;36m__call__\u001b[0;34m(self, data, *args, **kwargs)\u001b[0m\n\u001b[1;32m    309\u001b[0m                 \u001b[0mthis\u001b[0m \u001b[0;34m+=\u001b[0m \u001b[0margs\u001b[0m\u001b[0;34m[\u001b[0m\u001b[0;36m0\u001b[0m\u001b[0;34m]\u001b[0m\u001b[0;34m,\u001b[0m\u001b[0;34m\u001b[0m\u001b[0;34m\u001b[0m\u001b[0m\n\u001b[1;32m    310\u001b[0m                 \u001b[0margs\u001b[0m \u001b[0;34m=\u001b[0m \u001b[0margs\u001b[0m\u001b[0;34m[\u001b[0m\u001b[0;36m1\u001b[0m\u001b[0;34m:\u001b[0m\u001b[0;34m]\u001b[0m\u001b[0;34m\u001b[0m\u001b[0;34m\u001b[0m\u001b[0m\n\u001b[0;32m--> 311\u001b[0;31m             yield from self._plot_args(\n\u001b[0m\u001b[1;32m    312\u001b[0m                 this, kwargs, ambiguous_fmt_datakey=ambiguous_fmt_datakey)\n\u001b[1;32m    313\u001b[0m \u001b[0;34m\u001b[0m\u001b[0m\n",
            "\u001b[0;32m/usr/local/lib/python3.10/dist-packages/matplotlib/axes/_base.py\u001b[0m in \u001b[0;36m_plot_args\u001b[0;34m(self, tup, kwargs, return_kwargs, ambiguous_fmt_datakey)\u001b[0m\n\u001b[1;32m    502\u001b[0m \u001b[0;34m\u001b[0m\u001b[0m\n\u001b[1;32m    503\u001b[0m         \u001b[0;32mif\u001b[0m \u001b[0mx\u001b[0m\u001b[0;34m.\u001b[0m\u001b[0mshape\u001b[0m\u001b[0;34m[\u001b[0m\u001b[0;36m0\u001b[0m\u001b[0;34m]\u001b[0m \u001b[0;34m!=\u001b[0m \u001b[0my\u001b[0m\u001b[0;34m.\u001b[0m\u001b[0mshape\u001b[0m\u001b[0;34m[\u001b[0m\u001b[0;36m0\u001b[0m\u001b[0;34m]\u001b[0m\u001b[0;34m:\u001b[0m\u001b[0;34m\u001b[0m\u001b[0;34m\u001b[0m\u001b[0m\n\u001b[0;32m--> 504\u001b[0;31m             raise ValueError(f\"x and y must have same first dimension, but \"\n\u001b[0m\u001b[1;32m    505\u001b[0m                              f\"have shapes {x.shape} and {y.shape}\")\n\u001b[1;32m    506\u001b[0m         \u001b[0;32mif\u001b[0m \u001b[0mx\u001b[0m\u001b[0;34m.\u001b[0m\u001b[0mndim\u001b[0m \u001b[0;34m>\u001b[0m \u001b[0;36m2\u001b[0m \u001b[0;32mor\u001b[0m \u001b[0my\u001b[0m\u001b[0;34m.\u001b[0m\u001b[0mndim\u001b[0m \u001b[0;34m>\u001b[0m \u001b[0;36m2\u001b[0m\u001b[0;34m:\u001b[0m\u001b[0;34m\u001b[0m\u001b[0;34m\u001b[0m\u001b[0m\n",
            "\u001b[0;31mValueError\u001b[0m: x and y must have same first dimension, but have shapes (31980,) and (8299,)"
          ]
        },
        {
          "data": {
            "image/png": "[encoded data removed]",
            "text/plain": [
              "<Figure size 800x400 with 1 Axes>"
            ]
          },
          "metadata": {},
          "output_type": "display_data"
        }
      ],
      "source": [
        "yf_yes, max_amp_freq_yes = fft(yes, sample_rate, figsize = (8,4), title = 'YES')"
      ]
    },
    {
      "cell_type": "markdown",
      "metadata": {
        "id": "BKv6abkym7uU"
      },
      "source": [
        "Plot Spectogram"
      ]
    },
    {
      "cell_type": "code",
      "execution_count": null,
      "metadata": {
        "id": "jynVurqVm60q"
      },
      "outputs": [],
      "source": [
        "plot_spectogram(yes, sample_rate, figsize = (8,4), title='YES')"
      ]
    },
    {
      "cell_type": "markdown",
      "metadata": {
        "id": "OGMsgC06nDry"
      },
      "source": [
        "MFCC Plot with Librosa"
      ]
    },
    {
      "cell_type": "markdown",
      "metadata": {
        "id": "GZTP0wQZnEyG"
      },
      "source": [
        "Librosa function is designed to handle the entire MFCC extraction process starting from the raw audio signal.\n",
        "\n",
        "When you pass the raw audio signal to librosa.feature.mfcc, the function internally performs several steps including:\n",
        "\n",
        "Framing the signal into overlapping frames.\n",
        "Applying a window function to each frame.\n",
        "Calculating the FFT to convert each frame to the frequency domain.\n",
        "Applying Mel filter banks to the frequency spectra.\n",
        "Taking the logarithm of the Mel frequencies.\n",
        "Performing the Discrete Cosine Transform (DCT)."
      ]
    },
    {
      "cell_type": "code",
      "execution_count": null,
      "metadata": {
        "id": "mrPsavCrnLez"
      },
      "outputs": [],
      "source": [
        "calc_plot_mfcc (yes, sample_rate, n_mfcc=13, figsize = (8,4), title='YES')"
      ]
    },
    {
      "cell_type": "markdown",
      "metadata": {
        "id": "qyxXBIXInQNc"
      },
      "source": [
        "The above plot was generated with the default Librosa MFCC package parameters."
      ]
    },
    {
      "cell_type": "markdown",
      "metadata": {
        "id": "44aIOZ5TnTzD"
      },
      "source": [
        "Generating MFCC Features"
      ]
    },
    {
      "cell_type": "markdown",
      "metadata": {
        "id": "56rM0M9Vnahy"
      },
      "source": [
        "MFCC Calculation and plot using numpy and scipy libraries"
      ]
    },
    {
      "cell_type": "code",
      "execution_count": null,
      "metadata": {
        "id": "NUAYnDNNnVB0"
      },
      "outputs": [],
      "source": [
        "audio = yes.copy()\n",
        "type(audio)"
      ]
    },
    {
      "cell_type": "markdown",
      "metadata": {
        "id": "NPZKu0vWnkhp"
      },
      "source": [
        "Pre-emphasis: Apply a pre-emphasis filter to high-pass filter the audio signal:"
      ]
    },
    {
      "cell_type": "code",
      "execution_count": null,
      "metadata": {
        "id": "ubSDVUDrnlj0"
      },
      "outputs": [],
      "source": [
        "alpha = 0.98 #Coefficient\n",
        "audio = np.append(audio[0], audio[1:] - alpha * audio[:-1])"
      ]
    },
    {
      "cell_type": "markdown",
      "metadata": {
        "id": "-6idka1enulj"
      },
      "source": [
        "Framing: Split the signal using frame lenght of 25 milliseconds with a Frame stride of 20 milliseconds:"
      ]
    },
    {
      "cell_type": "code",
      "execution_count": null,
      "metadata": {
        "id": "CVDoVEdVnviw"
      },
      "outputs": [],
      "source": [
        "# Parameters\n",
        "frame_size = 0.025  # frame size in seconds\n",
        "frame_stride = 0.020  # frame stride in seconds\n",
        "\n",
        "# Calculate frame length and frame step (convert from seconds to samples)\n",
        "frame_length, frame_step = frame_size * sample_rate, frame_stride * sample_rate\n",
        "frame_length = int(round(frame_length))\n",
        "frame_step = int(round(frame_step))\n",
        "\n",
        "# Calculate the total number of frames\n",
        "num_frames = int(np.ceil(float(np.abs(len(audio) - frame_length)) / frame_step))\n",
        "\n",
        "frame_length, frame_step, num_frames"
      ]
    },
    {
      "cell_type": "code",
      "execution_count": null,
      "metadata": {
        "id": "zR5fuuU5n679"
      },
      "outputs": [],
      "source": [
        "# Pad audio signal\n",
        "pad_audio_length = num_frames * frame_step + frame_length\n",
        "z = np.zeros((pad_audio_length - len(audio)))\n",
        "pad_audio = np.append(audio, z)"
      ]
    },
    {
      "cell_type": "code",
      "execution_count": null,
      "metadata": {
        "id": "T7uIY30Yn953"
      },
      "outputs": [],
      "source": [
        "pad_audio.shape"
      ]
    },
    {
      "cell_type": "code",
      "execution_count": null,
      "metadata": {
        "id": "U8mtlSkooBNe"
      },
      "outputs": [],
      "source": [
        "# Initialize the frames\n",
        "indices = np.tile(np.arange(0, frame_length), (num_frames, 1)) + np.tile(np.arange(0, num_frames * frame_step, frame_step), (frame_length, 1)).T\n",
        "frames = pad_audio[indices.astype(np.int32, copy=False)]"
      ]
    },
    {
      "cell_type": "code",
      "execution_count": null,
      "metadata": {
        "id": "i2wW9Ct2oFbL"
      },
      "outputs": [],
      "source": [
        "frames.shape"
      ]
    },
    {
      "cell_type": "markdown",
      "metadata": {
        "id": "Qp_Hqk3poJ9n"
      },
      "source": [
        "Windowing: Apply a Hamming window to each frame:"
      ]
    },
    {
      "cell_type": "code",
      "execution_count": null,
      "metadata": {
        "id": "qRKVLYG9oNEm"
      },
      "outputs": [],
      "source": [
        "# Apply window function (Hamming)\n",
        "frames *= np.hamming(frame_length)\n",
        "frames[0].shape"
      ]
    },
    {
      "cell_type": "code",
      "execution_count": null,
      "metadata": {
        "id": "9ya_VXESoTel"
      },
      "outputs": [],
      "source": [
        "plot_time(frames[5], figsize = (5,3), title='frame[5]')\n",
        "plot_time(frames[3], figsize = (5,3), title='frame[3]')\n",
        "plot_time(frames[1], figsize = (5,3), title='frame[1]')"
      ]
    },
    {
      "cell_type": "markdown",
      "metadata": {
        "id": "XTcdzA8cpSOz"
      },
      "source": [
        "Fast Fourier Transform (FFT): Perform FFT to convert the frames to frequency domain:"
      ]
    },
    {
      "cell_type": "code",
      "execution_count": null,
      "metadata": {
        "id": "185RcCKUpTBB"
      },
      "outputs": [],
      "source": [
        "# Perform FFT and calculate power spectrum\n",
        "NFFT = 512 # FFT lenght\n",
        "mag_frames = np.absolute(np.fft.fft(frames, NFFT))\n",
        "pow_frames = ((1.0 / NFFT) * ((mag_frames) ** 2))"
      ]
    },
    {
      "cell_type": "code",
      "execution_count": null,
      "metadata": {
        "id": "CVv7NZkipaoZ"
      },
      "outputs": [],
      "source": [
        "mag_frames = mag_frames[:, :NFFT//2 + 1]\n",
        "pow_frames = ((1.0 / NFFT) * ((mag_frames) ** 2))"
      ]
    },
    {
      "cell_type": "code",
      "execution_count": null,
      "metadata": {
        "id": "TTaGjQ2mpes8"
      },
      "outputs": [],
      "source": [
        "mag_frames.shape, pow_frames.shape"
      ]
    },
    {
      "cell_type": "code",
      "execution_count": null,
      "metadata": {
        "id": "cOXFbQV8pi-0"
      },
      "outputs": [],
      "source": [
        "def plot_frame_fft(data, figsize=(5,3), title=''):\n",
        "    plt.figure(figsize=figsize)\n",
        "    plt.plot(data)\n",
        "    plt.xlabel('FFT Lenght')\n",
        "    plt.ylabel('power')\n",
        "    plt.grid(True)\n",
        "    plt.title(title+' sample - Frequency Components')\n",
        "    plt.show();"
      ]
    },
    {
      "cell_type": "code",
      "execution_count": null,
      "metadata": {
        "id": "034xFGCXpkcZ"
      },
      "outputs": [],
      "source": [
        "plot_frame_fft(pow_frames[5], title = 'pow_frames[5]')\n",
        "plot_frame_fft(pow_frames[3], title = 'pow_frames[3]')\n",
        "plot_frame_fft(pow_frames[1], title = 'pow_frames[1]')"
      ]
    },
    {
      "cell_type": "markdown",
      "metadata": {
        "id": "joqlmCdEp9lx"
      },
      "source": [
        "Mel Filter Banks: The frequency domain is then mapped to the Mel scale, which approximates the response of the human ear to different frequencies.\n",
        "\n",
        "By setting low_freq_mel to the Mel equivalent of low_freq_cut (for ex. 80 Hz), we ensure that the lowest band edge of your Mel filter bank starts at that freq."
      ]
    },
    {
      "cell_type": "code",
      "execution_count": null,
      "metadata": {
        "id": "6k-ng-WRpkZX"
      },
      "outputs": [],
      "source": [
        "low_freq_cut = 80\n",
        "low_freq_mel = 2595 * np.log10(1 + low_freq_cut / 700.0)  # Convert Hz to Mel"
      ]
    },
    {
      "cell_type": "code",
      "execution_count": null,
      "metadata": {
        "id": "KxRMG5sopkVr"
      },
      "outputs": [],
      "source": [
        "# Apply Mel filter banks\n",
        "nfilt = 32\n",
        "#low_freq_mel = 0\n",
        "high_freq_mel = (2595 * np.log10(1 + (sample_rate / 2) / 700))  # Convert Hz to Mel\n",
        "mel_points = np.linspace(low_freq_mel, high_freq_mel, nfilt + 2)  # Equally spaced in Mel scale\n",
        "hz_points = (700 * (10**(mel_points / 2595) - 1))  # Convert Mel to Hz\n",
        "bin = np.floor((NFFT + 1) * hz_points / sample_rate)\n",
        "\n",
        "fbank = np.zeros((nfilt, int(np.floor(NFFT / 2 + 1))))\n",
        "for m in range(1, nfilt + 1):\n",
        "    f_m_minus = int(bin[m - 1])\n",
        "    f_m = int(bin[m])\n",
        "    f_m_plus = int(bin[m + 1])\n",
        "\n",
        "    for k in range(f_m_minus, f_m):\n",
        "        fbank[m - 1, k] = (k - bin[m - 1]) / (bin[m] - bin[m - 1])\n",
        "    for k in range(f_m, f_m_plus):\n",
        "        fbank[m - 1, k] = 1 - (k - bin[m]) / (bin[m + 1] - bin[m])\n",
        "\n",
        "filter_banks = np.dot(pow_frames, fbank.T)\n",
        "filter_banks = np.where(filter_banks == 0, np.finfo(float).eps, filter_banks)\n",
        "filter_banks = 20 * np.log10(filter_banks)  # dB"
      ]
    },
    {
      "cell_type": "code",
      "execution_count": null,
      "metadata": {
        "id": "GZkjFTmApkHt"
      },
      "outputs": [],
      "source": [
        "filter_banks.shape"
      ]
    },
    {
      "cell_type": "code",
      "execution_count": null,
      "metadata": {
        "id": "EkVcDFcCqP_R"
      },
      "outputs": [],
      "source": [
        "# Plotting the filter bank matrix\n",
        "plt.figure(figsize=(8,3))\n",
        "plt.imshow(filter_banks, aspect='auto', cmap='coolwarm', origin='lower')\n",
        "plt.colorbar(label='Filter Bank Value')\n",
        "plt.xlabel('Frequency Bin')\n",
        "plt.ylabel('Filter Index')\n",
        "plt.title('Mel Filter Banks')\n",
        "plt.show()"
      ]
    },
    {
      "cell_type": "markdown",
      "metadata": {
        "id": "BAid64Oes6as"
      },
      "source": [
        "Normalization:"
      ]
    },
    {
      "cell_type": "code",
      "execution_count": null,
      "metadata": {
        "id": "_7VZGeC9sVpW"
      },
      "outputs": [],
      "source": [
        "noise_floor_dB = 0  # Replace with your specific noise floor level in dB\n",
        "\n",
        "# Apply the noise floor\n",
        "filter_banks = np.where(filter_banks < noise_floor_dB, noise_floor_dB, filter_banks)\n",
        "\n",
        "# Optional: Normalize the Mel Filterbank Energies\n",
        "mean = np.mean(filter_banks, axis=0)\n",
        "std_dev = np.std(filter_banks, axis=0)\n",
        "std_dev[std_dev == 0] = 1e-10\n",
        "\n",
        "filter_banks -= mean\n",
        "filter_banks /= std_dev"
      ]
    },
    {
      "cell_type": "code",
      "execution_count": null,
      "metadata": {
        "id": "EAJN_g_hsVeL"
      },
      "outputs": [],
      "source": [
        "# Plotting the filter bank matrix\n",
        "plt.figure(figsize=(8,4))\n",
        "plt.imshow(filter_banks, aspect='auto', cmap='coolwarm', origin='lower')\n",
        "plt.colorbar(label='Filter Bank Value')\n",
        "plt.xlabel('Frequency Bin')\n",
        "plt.ylabel('Filter Index')\n",
        "plt.title('Mel Filter Banks')\n",
        "plt.show()"
      ]
    },
    {
      "cell_type": "markdown",
      "metadata": {
        "id": "3KJMTlW8tGTn"
      },
      "source": [
        "Discrete Cosine Transform (DCT): The Mel frequencies are decorrelated and compressed, resulting in the final set of MFCCs."
      ]
    },
    {
      "cell_type": "code",
      "execution_count": null,
      "metadata": {
        "id": "YzGj5ZxetF7V"
      },
      "outputs": [],
      "source": [
        "# Apply Discrete Cosine Transform (DCT)\n",
        "num_ceps = 13\n",
        "mfcc = dct(filter_banks, type=2, axis=-1, norm='ortho')[:, 1 : (num_ceps + 1)]  # Exclude 0th order coefficient (energy)"
      ]
    },
    {
      "cell_type": "code",
      "execution_count": null,
      "metadata": {
        "id": "lqdCwcjytF3l"
      },
      "outputs": [],
      "source": [
        "mfcc.shape"
      ]
    },
    {
      "cell_type": "code",
      "execution_count": null,
      "metadata": {
        "id": "DLelK8WYtFsS"
      },
      "outputs": [],
      "source": [
        "# Plotting the MFCC\n",
        "plt.figure(figsize=(8,4))\n",
        "plt.imshow(mfcc, cmap='coolwarm', origin='lower', aspect='auto', extent=[0, 49, 1, 13])\n",
        "plt.colorbar(label='Coefficient Value')\n",
        "plt.xlabel('Frame Index')\n",
        "plt.ylabel('MFCC Coefficient Index')\n",
        "plt.title('YES - MFCC')\n",
        "plt.show()"
      ]
    },
    {
      "cell_type": "markdown",
      "metadata": {
        "id": "NWUB5wkRtWQt"
      },
      "source": [
        "Flatten the array to create a list of processed features"
      ]
    },
    {
      "cell_type": "code",
      "execution_count": null,
      "metadata": {
        "id": "qj77t_BMtaxr"
      },
      "outputs": [],
      "source": [
        "processed_features = mfcc.flatten()\n",
        "processed_features = np.round(processed_features, 4)\n",
        "processed_features = processed_features.tolist()\n",
        "len(processed_features)"
      ]
    },
    {
      "cell_type": "code",
      "execution_count": null,
      "metadata": {
        "id": "zi-fuGZctarg"
      },
      "outputs": [],
      "source": [
        "processed_features[:10]"
      ]
    },
    {
      "cell_type": "markdown",
      "metadata": {
        "id": "FAOrs1CktjdR"
      },
      "source": [
        "Using a function to calc, save and plot mfcc features.\n",
        "\n",
        "This function describes the above process into one function \"calc_plot_mfcc_features\""
      ]
    },
    {
      "cell_type": "code",
      "execution_count": null,
      "metadata": {
        "id": "R9jdNunBtaoS"
      },
      "outputs": [],
      "source": [
        "def calc_plot_mfcc_features(audio,\n",
        "                             sample_rate,\n",
        "                             alpha = 0.97,\n",
        "                             NFFT=512,\n",
        "                             low_freq_cut=80,\n",
        "                             nfilt=40,\n",
        "                             noise_floor_dB=-52,\n",
        "                             frame_size=0.02,\n",
        "                             frame_stride=0.02,\n",
        "                             num_ceps=13,\n",
        "                             figsize=(10, 5),\n",
        "                             title= 'YES'\n",
        "                             ):\n",
        "\n",
        "    # Pre-emphasis\n",
        "    audio = np.append(audio[0], audio[1:] - alpha * audio[:-1])\n",
        "\n",
        "    # Calculate frame length and frame step (convert from seconds to samples)\n",
        "    frame_length, frame_step = frame_size * sample_rate, frame_stride * sample_rate\n",
        "    frame_length = int(round(frame_length))\n",
        "    frame_step = int(round(frame_step))\n",
        "\n",
        "    # Calculate the total number of frames\n",
        "    num_frames = int(np.ceil(float(np.abs(len(audio) - frame_length)) / frame_step))\n",
        "\n",
        "    # Pad audio signal\n",
        "    pad_audio_length = num_frames * frame_step + frame_length\n",
        "    z = np.zeros((pad_audio_length - len(audio)))\n",
        "    pad_audio = np.append(audio, z)\n",
        "\n",
        "    # Initialize the frames\n",
        "    indices = np.tile(np.arange(0, frame_length), (num_frames, 1)) + np.tile(np.arange(0, num_frames * frame_step, frame_step), (frame_length, 1)).T\n",
        "    frames = pad_audio[indices.astype(np.int32, copy=False)]\n",
        "\n",
        "    # Apply window function (Hamming)\n",
        "    frames *= np.hamming(frame_length)\n",
        "\n",
        "    # Perform FFT and calculate power spectrum\n",
        "    #mag_frames = np.absolute(fft.fft(frames, NFFT))\n",
        "    #pow_frames = ((1.0 / NFFT) * ((mag_frames) ** 2))\n",
        "\n",
        "    mag_frames = np.absolute(np.fft.fft(frames, NFFT))\n",
        "    pow_frames = ((1.0 / NFFT) * ((mag_frames) ** 2))\n",
        "\n",
        "    # Take only up to (NFFT/2) + 1 elements after the FFT,\n",
        "    # as those are the unique frequency components for real-valued signals.\n",
        "    mag_frames = mag_frames[:, :NFFT//2 + 1]\n",
        "    pow_frames = ((1.0 / NFFT) * ((mag_frames) ** 2))\n",
        "\n",
        "    # By setting low_freq_mel to the Mel equivalent of low_freq_cut (for ex. 80 Hz),\n",
        "    # we ensure that the lowest band edge of your Mel filter bank starts at that freq.\n",
        "    low_freq_mel = 2595 * np.log10(1 + low_freq_cut / 700.0)  # Convert Hz to Mel\n",
        "\n",
        "    # Apply Mel filter banks\n",
        "    high_freq_mel = (2595 * np.log10(1 + (sample_rate / 2) / 700))  # Convert Hz to Mel\n",
        "    mel_points = np.linspace(low_freq_mel, high_freq_mel, nfilt + 2)  # Equally spaced in Mel scale\n",
        "    hz_points = (700 * (10**(mel_points / 2595) - 1))  # Convert Mel to Hz\n",
        "    bin = np.floor((NFFT + 1) * hz_points / sample_rate)\n",
        "\n",
        "    fbank = np.zeros((nfilt, int(np.floor(NFFT / 2 + 1))))\n",
        "    for m in range(1, nfilt + 1):\n",
        "        f_m_minus = int(bin[m - 1])\n",
        "        f_m = int(bin[m])\n",
        "        f_m_plus = int(bin[m + 1])\n",
        "\n",
        "        for k in range(f_m_minus, f_m):\n",
        "            fbank[m - 1, k] = (k - bin[m - 1]) / (bin[m] - bin[m - 1])\n",
        "        for k in range(f_m, f_m_plus):\n",
        "            fbank[m - 1, k] = 1 - (k - bin[m]) / (bin[m + 1] - bin[m])\n",
        "\n",
        "    filter_banks = np.dot(pow_frames, fbank.T)\n",
        "    filter_banks = np.where(filter_banks == 0, np.finfo(float).eps, filter_banks)\n",
        "    filter_banks = 20 * np.log10(filter_banks)  # dB\n",
        "\n",
        "    # Apply the noise floor\n",
        "    filter_banks = np.where(filter_banks < noise_floor_dB, noise_floor_dB, filter_banks)\n",
        "\n",
        "    # Normalize the Mel Filterbank Energies\n",
        "    mean = np.mean(filter_banks, axis=0)\n",
        "    std_dev = np.std(filter_banks, axis=0)\n",
        "    std_dev[std_dev == 0] = 1e-10\n",
        "    filter_banks -= mean\n",
        "    filter_banks /= std_dev\n",
        "\n",
        "    # Apply Discrete Cosine Transform (DCT)\n",
        "    mfcc = dct(filter_banks,\n",
        "            type=2,\n",
        "            axis=-1,\n",
        "            norm='ortho')[:, 1 : (num_ceps + 1)]  # Exclude 0th order coefficient (energy)\n",
        "\n",
        "    # create a list of processed features\n",
        "    processed_features = mfcc.flatten()\n",
        "    processed_features = np.round(processed_features, 4)\n",
        "    processed_features = processed_features.tolist()\n",
        "\n",
        "    # Plotting the filter bank matrix\n",
        "    plt.figure(figsize=figsize)\n",
        "    plt.imshow(filter_banks, aspect='auto', cmap='coolwarm', origin='lower')\n",
        "    plt.colorbar(label='Filter Bank Value')\n",
        "    plt.xlabel('Frequency Bin')\n",
        "    plt.ylabel('Filter Index')\n",
        "    plt.title(title+' - Mel Filter Banks')\n",
        "\n",
        "    # Plotting the MFCC\n",
        "    plt.figure(figsize=figsize)\n",
        "    plt.imshow(mfcc, cmap='coolwarm', origin='lower', aspect='auto', extent=[0, 49, 1, 13])\n",
        "    plt.colorbar(label='Coefficient Value')\n",
        "    plt.xlabel('Frame Index')\n",
        "    plt.ylabel('MFCC Coefficient Index')\n",
        "    plt.title(title+' - MFCC')\n",
        "    plt.show()\n",
        "\n",
        "    return processed_features"
      ]
    },
    {
      "cell_type": "code",
      "execution_count": null,
      "metadata": {
        "id": "yfo2vQ_0talJ"
      },
      "outputs": [],
      "source": [
        "processed_features = calc_plot_mfcc_features(yes,\n",
        "                        sample_rate,\n",
        "                        alpha = 0.97,\n",
        "                        NFFT=512,\n",
        "                        low_freq_cut=80,\n",
        "                        nfilt=32,\n",
        "                        noise_floor_dB=-52,\n",
        "                        frame_size=0.025,\n",
        "                        frame_stride=0.02,\n",
        "                        num_ceps = 13,\n",
        "                        figsize = (8,4),\n",
        "                        title= 'YES'\n",
        "                             )"
      ]
    },
    {
      "cell_type": "code",
      "execution_count": null,
      "metadata": {
        "id": "pVJp_FBvtah4"
      },
      "outputs": [],
      "source": [
        "processed_features[:10]"
      ]
    },
    {
      "cell_type": "code",
      "execution_count": null,
      "metadata": {
        "id": "aqUbDz39taeH"
      },
      "outputs": [],
      "source": []
    },
    {
      "cell_type": "markdown",
      "metadata": {
        "id": "r391mCjTKRaV"
      },
      "source": [
        "# Text 1-1: Matthew 4:1\n",
        "\n",
        "Then Jesus was led up by the Spirit into the wilderness to be tempted by the devil."
      ]
    },
    {
      "cell_type": "markdown",
      "metadata": {
        "id": "5lJZslWKmU0B"
      },
      "source": []
    },
    {
      "cell_type": "markdown",
      "metadata": {
        "id": "c7QdRjn_Hy-J"
      },
      "source": [
        "# Text 2-1: Luke 3:2a\n",
        "\n",
        "...{the} word of God came to John, the son of Zechariah, in the wilderness."
      ]
    },
    {
      "cell_type": "markdown",
      "metadata": {
        "id": "UM_K1F3dEojX"
      },
      "source": [
        "# Text 2-1: Genesis 1:1\n",
        "\n",
        "In the beginning God created the heavens and the earth."
      ]
    },
    {
      "cell_type": "markdown",
      "metadata": {
        "id": "CCI5K7IzG9mJ"
      },
      "source": [
        "# Text 2-2: John 1:1\n",
        "\n",
        "In {the} beginning was the Word, and the Word was with God, and the Word was God."
      ]
    }
  ],
  "metadata": {
    "colab": {
      "provenance": [],
      "include_colab_link": true
    },
    "kernelspec": {
      "display_name": "Python 3",
      "name": "python3"
    },
    "language_info": {
      "name": "python"
    }
  },
  "nbformat": 4,
  "nbformat_minor": 0
}